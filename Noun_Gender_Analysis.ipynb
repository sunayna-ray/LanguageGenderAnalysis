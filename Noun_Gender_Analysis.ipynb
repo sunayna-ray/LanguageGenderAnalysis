{
  "nbformat": 4,
  "nbformat_minor": 0,
  "metadata": {
    "colab": {
      "provenance": []
    },
    "kernelspec": {
      "name": "python3",
      "display_name": "Python 3"
    },
    "language_info": {
      "name": "python"
    }
  },
  "cells": [
    {
      "cell_type": "code",
      "execution_count": 1,
      "metadata": {
        "id": "5k1QA2GwCtp6"
      },
      "outputs": [],
      "source": [
        "import requests\n",
        "import re"
      ]
    },
    {
      "cell_type": "code",
      "source": [
        "import chardet\n",
        "chardet.detect(b\"INPUT OBJECT\")['encoding']"
      ],
      "metadata": {
        "colab": {
          "base_uri": "https://localhost:8080/",
          "height": 36
        },
        "id": "I8x9rUocWfKe",
        "outputId": "c5d7901f-4d70-426a-8fdd-e294844442f8"
      },
      "execution_count": 2,
      "outputs": [
        {
          "output_type": "execute_result",
          "data": {
            "text/plain": [
              "'ascii'"
            ],
            "application/vnd.google.colaboratory.intrinsic+json": {
              "type": "string"
            }
          },
          "metadata": {},
          "execution_count": 2
        }
      ]
    },
    {
      "cell_type": "markdown",
      "source": [
        "##HINDI"
      ],
      "metadata": {
        "id": "XeqieqQnOpH2"
      }
    },
    {
      "cell_type": "code",
      "source": [
        "source = \"https://www.boltidictionary.com/en/\""
      ],
      "metadata": {
        "id": "OmWFQlzfPEqD"
      },
      "execution_count": null,
      "outputs": []
    },
    {
      "cell_type": "code",
      "source": [
        "word=\"food\""
      ],
      "metadata": {
        "id": "KXpgBRiIO2Zb"
      },
      "execution_count": null,
      "outputs": []
    },
    {
      "cell_type": "code",
      "source": [
        "res = requests.get(source+'search?s='+word).content.decode('utf-8')"
      ],
      "metadata": {
        "id": "SCeRb6G7C10j"
      },
      "execution_count": null,
      "outputs": []
    },
    {
      "cell_type": "code",
      "source": [
        "currWord= re.search(\"word/[0-9]+\", res).group(0)"
      ],
      "metadata": {
        "id": "fGRaZkCyDU9L"
      },
      "execution_count": null,
      "outputs": []
    },
    {
      "cell_type": "code",
      "source": [
        "res1 = requests.get(source+currWord).content.decode('utf-8')"
      ],
      "metadata": {
        "id": "sgLy_7TYFdcD"
      },
      "execution_count": null,
      "outputs": []
    },
    {
      "cell_type": "code",
      "source": [
        "re.search(\"definition-type\\\">(masculine|feminine) noun\", res1).group(1)"
      ],
      "metadata": {
        "colab": {
          "base_uri": "https://localhost:8080/",
          "height": 35
        },
        "id": "L6nA5DZMFt6k",
        "outputId": "806ea621-6eb1-4e9d-a652-b8ee89f8fb94"
      },
      "execution_count": null,
      "outputs": [
        {
          "output_type": "execute_result",
          "data": {
            "text/plain": [
              "'masculine'"
            ],
            "application/vnd.google.colaboratory.intrinsic+json": {
              "type": "string"
            }
          },
          "metadata": {},
          "execution_count": 142
        }
      ]
    },
    {
      "cell_type": "code",
      "source": [
        "re.search(\"devanagari\\\">(.+)</span>\", res1).group(1).split(\" - \")[0]"
      ],
      "metadata": {
        "colab": {
          "base_uri": "https://localhost:8080/",
          "height": 35
        },
        "id": "avt_hvvXMUGE",
        "outputId": "997acf4e-5308-4aae-b5b7-b7bc8b5d50d8"
      },
      "execution_count": null,
      "outputs": [
        {
          "output_type": "execute_result",
          "data": {
            "text/plain": [
              "'आहार'"
            ],
            "application/vnd.google.colaboratory.intrinsic+json": {
              "type": "string"
            }
          },
          "metadata": {},
          "execution_count": 143
        }
      ]
    },
    {
      "cell_type": "markdown",
      "source": [
        "##FRENCH"
      ],
      "metadata": {
        "id": "JM-DUbDvOvYD"
      }
    },
    {
      "cell_type": "code",
      "source": [
        "source = \"https://www.linguee.com/english-french/\""
      ],
      "metadata": {
        "id": "UE1T-2f2OxKk"
      },
      "execution_count": null,
      "outputs": []
    },
    {
      "cell_type": "code",
      "source": [
        "word = \"window\""
      ],
      "metadata": {
        "id": "_5kvuGINYDZ_"
      },
      "execution_count": null,
      "outputs": []
    },
    {
      "cell_type": "code",
      "source": [
        "res = requests.get(source+'search?source=auto&query='+word).content.decode('iso-8859-1')"
      ],
      "metadata": {
        "id": "4DQZwrFCU2vm"
      },
      "execution_count": null,
      "outputs": []
    },
    {
      "cell_type": "code",
      "source": [
        "re.search(\"title=\\'noun,&nbsp;(masculine|feminine)\\\\'\", res).group(1)"
      ],
      "metadata": {
        "colab": {
          "base_uri": "https://localhost:8080/",
          "height": 35
        },
        "id": "ypxqoKZrVTXO",
        "outputId": "97ea605d-3256-468a-e8c8-c18284eafd5f"
      },
      "execution_count": null,
      "outputs": [
        {
          "output_type": "execute_result",
          "data": {
            "text/plain": [
              "'feminine'"
            ],
            "application/vnd.google.colaboratory.intrinsic+json": {
              "type": "string"
            }
          },
          "metadata": {},
          "execution_count": 207
        }
      ]
    },
    {
      "cell_type": "code",
      "source": [
        "re.search(\"dictLink featured\\'>(.+)</a> <span class=\\'tag_type\\' \", res).group(1)"
      ],
      "metadata": {
        "colab": {
          "base_uri": "https://localhost:8080/",
          "height": 35
        },
        "id": "udwbJ71RVTZ2",
        "outputId": "3025e0ac-8dcc-4378-aed8-52c72764c370"
      },
      "execution_count": null,
      "outputs": [
        {
          "output_type": "execute_result",
          "data": {
            "text/plain": [
              "'fenêtre'"
            ],
            "application/vnd.google.colaboratory.intrinsic+json": {
              "type": "string"
            }
          },
          "metadata": {},
          "execution_count": 208
        }
      ]
    },
    {
      "cell_type": "markdown",
      "source": [
        "##WORDS\n",
        "https://www.talkenglish.com/vocabulary/top-1500-nouns.aspx"
      ],
      "metadata": {
        "id": "FsrFP1CXyuny"
      }
    },
    {
      "cell_type": "code",
      "source": [
        "source = \"https://www.talkenglish.com/vocabulary/top-1500-nouns.aspx\""
      ],
      "metadata": {
        "id": "yYToSLP_yzun"
      },
      "execution_count": 3,
      "outputs": []
    },
    {
      "cell_type": "code",
      "source": [
        "res = requests.get(source).content.decode('utf-8')\n",
        "allwords = re.findall(\"<a href=\\\"/how-to-use/.*\\\" target=\\\"_blank\\\">(.*)</a>\", res)"
      ],
      "metadata": {
        "id": "1rAYnQdHzDbV"
      },
      "execution_count": 33,
      "outputs": []
    },
    {
      "cell_type": "code",
      "source": [
        "# chardet.detect(res)['encoding']"
      ],
      "metadata": {
        "colab": {
          "base_uri": "https://localhost:8080/",
          "height": 36
        },
        "id": "T5Ie151nzESC",
        "outputId": "dc4f78a9-fd02-455e-e7c0-75a4197b8118"
      },
      "execution_count": 12,
      "outputs": [
        {
          "output_type": "execute_result",
          "data": {
            "text/plain": [
              "'utf-8'"
            ],
            "application/vnd.google.colaboratory.intrinsic+json": {
              "type": "string"
            }
          },
          "metadata": {},
          "execution_count": 12
        }
      ]
    },
    {
      "cell_type": "code",
      "source": [
        "f = open('wordlist.csv','w')\n",
        "f.write('\\n'.join(allwords))\n",
        "f.close()"
      ],
      "metadata": {
        "id": "3Tp34zhL3OF_"
      },
      "execution_count": 37,
      "outputs": []
    }
  ]
}