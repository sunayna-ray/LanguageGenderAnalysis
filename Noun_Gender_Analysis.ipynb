{
  "nbformat": 4,
  "nbformat_minor": 0,
  "metadata": {
    "colab": {
      "provenance": []
    },
    "kernelspec": {
      "name": "python3",
      "display_name": "Python 3"
    },
    "language_info": {
      "name": "python"
    }
  },
  "cells": [
    {
      "cell_type": "code",
      "execution_count": null,
      "metadata": {
        "id": "5k1QA2GwCtp6"
      },
      "outputs": [],
      "source": [
        "import requests\n",
        "import re"
      ]
    },
    {
      "cell_type": "code",
      "source": [
        "import chardet\n",
        "chardet.detect(b\"INPUT OBJECT\")['encoding']"
      ],
      "metadata": {
        "colab": {
          "base_uri": "https://localhost:8080/",
          "height": 36
        },
        "id": "I8x9rUocWfKe",
        "outputId": "1819cf68-0f73-4bcc-b318-ba6d81695f66"
      },
      "execution_count": null,
      "outputs": [
        {
          "output_type": "execute_result",
          "data": {
            "text/plain": [
              "'ascii'"
            ],
            "application/vnd.google.colaboratory.intrinsic+json": {
              "type": "string"
            }
          },
          "metadata": {},
          "execution_count": 5
        }
      ]
    },
    {
      "cell_type": "markdown",
      "source": [
        "##HINDI"
      ],
      "metadata": {
        "id": "XeqieqQnOpH2"
      }
    },
    {
      "cell_type": "code",
      "source": [
        "source = \"https://www.boltidictionary.com/en/\""
      ],
      "metadata": {
        "id": "OmWFQlzfPEqD"
      },
      "execution_count": null,
      "outputs": []
    },
    {
      "cell_type": "code",
      "source": [
        "word=\"family\""
      ],
      "metadata": {
        "id": "KXpgBRiIO2Zb"
      },
      "execution_count": null,
      "outputs": []
    },
    {
      "cell_type": "code",
      "source": [
        "res = requests.get(source+'search?s='+word).content.decode('utf-8')"
      ],
      "metadata": {
        "id": "SCeRb6G7C10j"
      },
      "execution_count": null,
      "outputs": []
    },
    {
      "cell_type": "code",
      "source": [
        "res1 = requests.get(source+currWord[2]).content.decode('utf-8')"
      ],
      "metadata": {
        "id": "sgLy_7TYFdcD"
      },
      "execution_count": null,
      "outputs": []
    },
    {
      "cell_type": "code",
      "source": [
        "res1"
      ],
      "metadata": {
        "colab": {
          "base_uri": "https://localhost:8080/",
          "height": 227
        },
        "id": "Yp3kSdh73WSy",
        "outputId": "bd6ed2ac-cbc5-492a-a4c8-0401d6f61fe2"
      },
      "execution_count": null,
      "outputs": [
        {
          "output_type": "execute_result",
          "data": {
            "text/plain": [
              "'<!doctype html>\\n<html lang=\"fr\">\\n  <head>\\n    <meta charset=\"UTF-8\">\\n    <title>Bolti Dictionary</title>\\n    <meta name=\"description\" content=\"\">\\n    <meta name=\"viewport\" content=\"width=device-width, initial-scale=1\">\\n\\n    <link rel=\"apple-touch-icon\" sizes=\"57x57\" href=\"/img/favicon/apple-touch-icon-57x57.png\">\\n    <link rel=\"apple-touch-icon\" sizes=\"60x60\" href=\"/img/favicon/apple-touch-icon-60x60.png\">\\n    <link rel=\"apple-touch-icon\" sizes=\"72x72\" href=\"/img/favicon/apple-touch-icon-72x72.png\">\\n    <link rel=\"apple-touch-icon\" sizes=\"76x76\" href=\"/img/favicon/apple-touch-icon-76x76.png\">\\n    <link rel=\"apple-touch-icon\" sizes=\"114x114\" href=\"/img/favicon/apple-touch-icon-114x114.png\">\\n    <link rel=\"apple-touch-icon\" sizes=\"120x120\" href=\"/img/favicon/apple-touch-icon-120x120.png\">\\n    <link rel=\"apple-touch-icon\" sizes=\"144x144\" href=\"/img/favicon/apple-touch-icon-144x144.png\">\\n    <link rel=\"apple-touch-icon\" sizes=\"152x152\" href=\"/img/favicon/apple-touch-icon-152x152.png\">\\n    <link rel=\"apple-touch-icon\" sizes=\"180x180\" href=\"/img/favicon/apple-touch-icon-180x180.png\">\\n    <link rel=\"icon\" type=\"image/png\" href=\"/img/favicon/favicon-32x32.png\" sizes=\"32x32\">\\n    <link rel=\"icon\" type=\"image/png\" href=\"/img/favicon/android-chrome-192x192.png\" sizes=\"192x192\">\\n    <link rel=\"icon\" type=\"image/png\" href=\"/img/favicon/favicon-16x16.png\" sizes=\"16x16\">\\n    <link rel=\"manifest\" href=\"/img/favicon/manifest.json\">\\n    <link rel=\"mask-icon\" href=\"/img/favicon/safari-pinned-tab.svg\" color=\"#5bbad5\">\\n    <meta name=\"msapplication-TileColor\" content=\"#ffc40d\">\\n    <meta name=\"msapplication-TileImage\" content=\"/img/favicon/mstile-144x144.png\">\\n    <meta name=\"theme-color\" content=\"#ffffff\">\\n\\n        <link href=\"//fonts.googleapis.com/css?family=Raleway:300,400,400i,600,800\" rel=\"stylesheet\">\\n            <link rel=\"stylesheet\" href=\"/build/all.css?20210604\" media=\"screen\" />\\n            <script>\\n      (function(i,s,o,g,r,a,m){i[\\'GoogleAnalyticsObject\\']=r;i[r]=i[r]||function(){\\n      (i[r].q=i[r].q||[]).push(arguments)},i[r].l=1*new Date();a=s.createElement(o),\\n      m=s.getElementsByTagName(o)[0];a.async=1;a.src=g;m.parentNode.insertBefore(a,m)\\n      })(window,document,\\'script\\',\\'https://www.google-analytics.com/analytics.js\\',\\'ga\\');\\n\\n      ga(\\'create\\', \\'UA-36356888-1\\', \\'auto\\');\\n      ga(\\'set\\', \\'dimension1\\', window.matchMedia && window.matchMedia(\\'(display-mode: standalone)\\').matches || window.navigator.standalone === true ? \\'pwa\\' : \\'no-pwa\\');\\n      ga(\\'send\\', \\'pageview\\');\\n    </script>\\n    <script src=\"https://www.google.com/recaptcha/api.js?render=6LeCW7MZAAAAAIlcPNotXXpC45b1-kk0iooGnOP4\"></script>\\n  </head>\\n  <body\\n    role=\"document\"\\n                data-sw=\"/sw.js\"\\n          data-login-check-quick=\"/en/login_check_quick\"\\n    >\\n\\n      <div id=\"mainContent\">\\n      \\n        \\n    <header id=\"header\" role=\"banner\">\\n  <section class=\"top-bar\">\\n    <div class=\"content\">\\n      <div class=\"top-bar-top\">\\n        <div class=\"\">\\n          <a href=\"/en/\" class=\"logo\" alt=\"Bolti Dictionary\">\\n            <img src=\"/img/logo-bolti.svg\" alt=\"\">\\n            <h1>Bolti <br>Dictionary</h1>\\n          </a>\\n        </div>\\n        <div class=\"search-form-container\">\\n          <form action=\"/en/search\" class=\"search-form\" method=\"GET\">\\n    <input type=\"text\" name=\"s\" placeholder=\"A search ?\" value=\"\">\\n    <button type=\"submit\" class=\"search\">Search</button>\\n    <a class=\"search-voice tipso top\" data-tipso=\"You can use your phone&#039;s voice assistant\">Search with voice</a>\\n</form>\\n        </div>\\n\\n\\n        <div class=\"mobile-hidden\">\\n          <!-- <a href=\"\" class=\"btn\">S\\'inscrire / Se connecter</a>-->\\n          <div class=\"lang-wrapper\">\\n            <button>\\n              <span class=\"lang lang-en\"></span>\\n            </button>\\n            <ul class=\"lang-list\">\\n              <li><a href=\"/fr/word/29175\" class=\"lang-fr\">Français</a></li>\\n              <li><a href=\"/en/word/29175\" class=\"lang-en\">English</a></li>\\n                            <!--\\n              <li><a href=\"#\" class=\"lang-it\">Italiano</a></li>\\n              <li><a href=\"#\" class=\"lang-es\">Español</a></li>\\n              <li><a href=\"#\" class=\"lang-de\">Deutsch</a></li>\\n              <li><a href=\"#\" class=\"lang-pt\">Português</a></li>\\n              <li><a href=\"#\" class=\"lang-ru\">русский</a></li>\\n              <li><a href=\"#\" class=\"lang-jp jap\">日本の</a></li>\\n              -->\\n            </ul>\\n          </div>\\n        </div>\\n\\n      </div>\\n      <nav class=\"main-nav\" role=\"navigation\">\\n        <div>\\n          <button class=\"mobile-menu mobile-only\">Menu</button>\\n          <div class=\"mobile-menu-content\">\\n            <h2 class=\"mobile-only\">Menu</h2>\\n            <button class=\"mobile-only\">Fermer</button>\\n            <ul>\\n              <li><a href=\"/en/dictionary\" >Dictionary</a></li>\\n              <li><a href=\"/en/photos\" >Photos</a></li>\\n              <li><a href=\"/en/learning\" >Learning</a></li>\\n              <li><a href=\"#\" data-remodal-target=\"modal\">Contact</a></li>\\n<!--               <li><a href=\"/en/about\" >About</a></li> -->\\n              <li><a href=\"/en/p/about\" >About</a></li>\\n              <li class=\"onlyNotLogged\"><a href=\"/en/register/\" class=\"\">Sign up</a></li>\\n              <li>\\n                <a href=\"/en/login\" class=\"onlyNotLogged\">Log in</a>\\n                <a href=\"/en/logout\" class=\"onlyLogged\">Log out</a>\\n              </li>\\n            </ul>\\n          </div>\\n        </div>\\n        <div class=\"mobile-only\">\\n          <!--\\n<a href=\"\" class=\"btn\">S\\'inscrire / Se connecter</a>\\n-->\\n          <div class=\"lang-wrapper\">\\n            <button>\\n              <span class=\"lang lang-en\"></span>\\n            </button>\\n            <ul class=\"lang-list\">\\n              <li><a href=\"/fr/word/29175\" class=\"lang-fr\">Français</a></li>\\n              <li><a href=\"/en/word/29175\" class=\"lang-en\">English</a></li>\\n<!--\\n              <li><a href=\"#\" class=\"lang-it\">Italiano</a></li>\\n              <li><a href=\"#\" class=\"lang-es\">Español</a></li>\\n              <li><a href=\"#\" class=\"lang-de\">Deutsch</a></li>\\n              <li><a href=\"#\" class=\"lang-pt\">Português</a></li>\\n              <li><a href=\"#\" class=\"lang-ru\">русский</a></li>\\n              <li><a href=\"#\" class=\"lang-jp jap\">日本の</a></li>\\n-->\\n            </ul>\\n          </div>\\n        </div>\\n      </nav>\\n    </div>\\n  </section>\\n</header>    <header id=\"headerBottom\">\\n  <div class=\"header-bottom\">\\n    <div class=\"content\">\\n            <h1>Your search</h1>\\n                  <h2>Need something else? Make a new search</h2>\\n      \\n      \\n      \\n      <ul class=\"breadcrumbs\">\\n    <li class=\"first-crumb\"><a href=\"/en/\">Home</a></li>\\n\\n    \\n    \\n            <li><a href=\"/en/dictionary\">Dictionary</a></li>\\n        <li>परिवार</li>\\n    \\n    \\n    \\n    \\n    \\n    \\n</ul>\\n\\n\\n      \\n    </div>\\n  </div>\\n</header>\\n    <main id=\"main\" role=\"main\">\\n                <section class=\"content\">\\n        \\n        \\n        <section class=\"definitions\">\\n    <div class=\"title-with-actions with-border border-left\">\\n        <div class=\"three-quarters\">\\n            <button class=\"with-ico\" data-remodal-target=\"modal_image\">\\n                <img src=\"/img/svg-sprites/ico-add-photo.svg\" alt=\"\">\\n                <span class=\"tablet-hidden\">Submit a photo</span>\\n            </button>\\n            <button class=\"with-ico\" data-remodal-target=\"modal_traduction\">\\n                <img src=\"/img/svg-sprites/ico-add-translation.svg\" alt=\"\">\\n                <span class=\"tablet-hidden\">Suggest a translation</span>\\n            </button>\\n            <button class=\"with-ico addKnowledge\"\\n\\t\\t\\t\\tdata-uri=\"/en/knowledge/add/word/29175\"\\n                data-has-uri=\"/en/knowledge/has/word/29175\"\\n                data-del-uri=\"/en/knowledge/remove/word/29175\"\\n\\t\\t\\t>\\n                <span class=\"addKnowledge_add\">\\n                    <img class=\"\" src=\"/img/svg-sprites/ico-add-revision.svg\" alt=\"\">\\n                    <span class=\"tablet-hidden\">Add to your knowledge</span>\\n                </span>\\n                <span class=\"addKnowledge_del\">\\n                    <img class=\"\" src=\"/img/svg-sprites/ico-del-revision.svg\" alt=\"\">\\n                    <span class=\"tablet-hidden\">Remove from your knowledge</span>\\n                </span>\\n            </button>\\n        </div>\\n        <h2><span class=\"devanagari\">परिवार - پریوار</span></h2>\\n    </div>\\n\\n    \\n                \\n\\t\\t\\t        \\t        <article>\\n\\t            <div class=\"col-w70\">\\n\\t                <div class=\"illustrations woman-02 illustr-cw-271403\" data-hide-id=\"271403\"></div>\\n\\t            </div>\\n\\t            <div class=\"definitions-content\">\\n\\t                <a href=\"https://www.boltidictionary.com/audio/84/4f/hash_r09250_compressed.mp3\" class=\"sm2_link\" data-id=\"cw-271403\"><span class=\"devanagari\">परिवार</span><i class=\"icon-speaker\"></i></a>\\n\\t                <span class=\"translation-271403\">family</span>\\n\\t                    \\t                                        <p class=\"definition-type\">masculine noun</p>\\n                        \\t                \\n\\t                \\t                <div class=\"defintion-examples examples-271403\">\\n\\t                    <h4>Examples :</h4>\\n\\t                    <ul>\\n\\t                    \\t                    <li>\\n\\t                        <span class=\"devanagari devanagri-271403\">बड़ा परिवार</span>\\n\\t                        \\t                        <a href=\"https://www.boltidictionary.com/audio/d9/f2/hash_eh06935_compressed.mp3\" class=\"sm2_link\"><i class=\"icon-speaker\"></i></a>\\n\\t                        \\t                        \\t                        <span class=\"translated-271403\">A big family</span>\\n\\t                        \\t                    </li>\\n\\t                    \\t                    <li>\\n\\t                        <span class=\"devanagari devanagri-271403\">छोटा परिवार</span>\\n\\t                        \\t                        <a href=\"https://www.boltidictionary.com/audio/5c20ad7ea2656_FR63573.mp3\" class=\"sm2_link\"><i class=\"icon-speaker\"></i></a>\\n\\t                        \\t                        \\t                        <span class=\"translated-271403\">A small family</span>\\n\\t                        \\t                    </li>\\n\\t                    \\t                    <li>\\n\\t                        <span class=\"devanagari devanagri-271403\">सुखी परिवार</span>\\n\\t                        \\t                        <a href=\"https://www.boltidictionary.com/audio/5c20adc8ea129_FR63574.mp3\" class=\"sm2_link\"><i class=\"icon-speaker\"></i></a>\\n\\t                        \\t                        \\t                        <span class=\"translated-271403\">Happy family</span>\\n\\t                        \\t                    </li>\\n\\t                    \\t                    <li>\\n\\t                        <span class=\"devanagari devanagri-271403\">परिवार के लोग</span>\\n\\t                        \\t                        <a href=\"https://www.boltidictionary.com/audio/e0/a3/hash_eh06937_compressed.mp3\" class=\"sm2_link\"><i class=\"icon-speaker\"></i></a>\\n\\t                        \\t                        \\t                        <span class=\"translated-271403\">Members of a family</span>\\n\\t                        \\t                    </li>\\n\\t                    \\t                    <li>\\n\\t                        <span class=\"devanagari devanagri-271403\">भाषों के परिवार</span>\\n\\t                        \\t                        <a href=\"https://www.boltidictionary.com/audio/e6/e4/hash_eh06938_compressed.mp3\" class=\"sm2_link\"><i class=\"icon-speaker\"></i></a>\\n\\t                        \\t                        \\t                        <span class=\"translated-271403\">Families of the languages</span>\\n\\t                        \\t                    </li>\\n\\t                    \\t                    <li>\\n\\t                        <span class=\"devanagari devanagri-271403\">गरीब परिवारों में</span>\\n\\t                        \\t                        <a href=\"https://www.boltidictionary.com/audio/a1/b1/hash_fr65968.mp3\" class=\"sm2_link\"><i class=\"icon-speaker\"></i></a>\\n\\t                        \\t                        \\t                        <span class=\"translated-271403\">In poor families</span>\\n\\t                        \\t                    </li>\\n\\t                    \\t                    <li>\\n\\t                        <span class=\"devanagari devanagri-271403\">परिवार की कहानियाँ</span>\\n\\t                        \\t                        <a href=\"https://www.boltidictionary.com/audio/593da17fa2dd4_FR51273.mp3\" class=\"sm2_link\"><i class=\"icon-speaker\"></i></a>\\n\\t                        \\t                        \\t                        <span class=\"translated-271403\">Family stories</span>\\n\\t                        \\t                    </li>\\n\\t                    \\t                    <li>\\n\\t                        <span class=\"devanagari devanagri-271403\">डा. शर्मा का परिवार</span>\\n\\t                        \\t                        <a href=\"https://www.boltidictionary.com/audio/58efee7345c7d_EH08683.mp3\" class=\"sm2_link\"><i class=\"icon-speaker\"></i></a>\\n\\t                        \\t                        \\t                        <span class=\"translated-271403\">The family of Dr. Sharma</span>\\n\\t                        \\t                    </li>\\n\\t                    \\t                    <li>\\n\\t                        <span class=\"devanagari devanagri-271403\">टूट हुए परिवार</span>\\n\\t                        \\t                        <a href=\"https://www.boltidictionary.com/audio/31/ab/hash_eh06939_compressed.mp3\" class=\"sm2_link\"><i class=\"icon-speaker\"></i></a>\\n\\t                        \\t                        \\t                        <span class=\"translated-271403\">Broken families</span>\\n\\t                        \\t                    </li>\\n\\t                    \\t                    <li>\\n\\t                        <span class=\"devanagari devanagri-271403\">वह\\xa0अच्छे\\xa0परिवार\\xa0से\\xa0है</span>\\n\\t                        \\t                        <a href=\"https://www.boltidictionary.com/audio/18/89/hash_fr78936_compressed.mp3\" class=\"sm2_link\"><i class=\"icon-speaker\"></i></a>\\n\\t                        \\t                        \\t                        <span class=\"translated-271403\">He is from a good family</span>\\n\\t                        \\t                    </li>\\n\\t                    \\t                    <li>\\n\\t                        <span class=\"devanagari devanagri-271403\">मध्यवर्गीय परिवारों की समस्याएँ</span>\\n\\t                        \\t                        <a href=\"https://www.boltidictionary.com/audio/1a/9b/hash_eh06941_compressed.mp3\" class=\"sm2_link\"><i class=\"icon-speaker\"></i></a>\\n\\t                        \\t                        \\t                        <span class=\"translated-271403\">The problems of middle-class families</span>\\n\\t                        \\t                    </li>\\n\\t                    \\t                    <li>\\n\\t                        <span class=\"devanagari devanagri-271403\">भगवान शिव का परिवार बहुत बड़ा है</span>\\n\\t                        \\t                        <a href=\"https://www.boltidictionary.com/audio/4d/af/hash_eh32345_compressed.mp3\" class=\"sm2_link\"><i class=\"icon-speaker\"></i></a>\\n\\t                        \\t                        \\t                        <span class=\"translated-271403\">The God Shiva has a large family</span>\\n\\t                        \\t                    </li>\\n\\t                    \\t                    <li>\\n\\t                        <span class=\"devanagari devanagri-271403\">गांधी एक बनिया परिवार में पैदा हुए थे</span>\\n\\t                        \\t                        <a href=\"https://www.boltidictionary.com/audio/5a6c369951e6c_FR56777.mp3\" class=\"sm2_link\"><i class=\"icon-speaker\"></i></a>\\n\\t                        \\t                        \\t                        <span class=\"translated-271403\">Gandhi was born in a bania family</span>\\n\\t                        \\t                    </li>\\n\\t                    \\t                    <li>\\n\\t                        <span class=\"devanagari devanagri-271403\">यह काम करके तुम अपने परिवार का नाम डूबा रहे हो</span>\\n\\t                        \\t                        <a href=\"https://www.boltidictionary.com/audio/66/87/hash_eh06942_compressed.mp3\" class=\"sm2_link\"><i class=\"icon-speaker\"></i></a>\\n\\t                        \\t                        \\t                        <span class=\"translated-271403\">Doing this thing, you are dishonoring your family&#039;s name</span>\\n\\t                        \\t                    </li>\\n\\t                    \\t                    <li>\\n\\t                        <span class=\"devanagari devanagri-271403\">भारत में विश्व के सबसे चार प्रमुख भाषा परिवारों की भाषाएँ बोली जाती है</span>\\n\\t                        \\t                        <a href=\"https://www.boltidictionary.com/audio/5bdf996ec4784_FR61246.mp3\" class=\"sm2_link\"><i class=\"icon-speaker\"></i></a>\\n\\t                        \\t                        \\t                        <span class=\"translated-271403\">in India the languages of the four major language families in the world are spoken</span>\\n\\t                        \\t                    </li>\\n\\t                    \\t                    </ul>\\n\\t                \\n\\t                <!--\\n\\t                \\t                -->\\n\\t            </div>\\n\\t        </article>\\n\\n\\t        \\n\\n\\t        \\t    \\n    \\n    <article>\\n    <span class=\"synonyme_title\">Synonyms :</span>\\n        <span class=\"devanagari\">\\n        <a href=\"/en/word/77427\">कुटुंब</a>,     </span>\\n        <span class=\"devanagari\">\\n        <a href=\"/en/word/69194\">ख़ानदान</a>    </span>\\n    </article>\\n\\n\\n</section>\\n\\n\\n\\n                <section class=\"bottom-module\">\\n          <div class=\"grid\">\\n            <div>\\n              <a href=\"/en/learning\" class=\"learn-hindi\">\\n                <span class=\"bottom-module-link-text\">Learn Hindi <br> with the locals</span>\\n              </a>\\n            </div>\\n            <div class=\"bottom-search\">\\n              <h3>New search ?</h3>\\n              <form action=\"/en/search\" class=\"search-form\" method=\"GET\">\\n    <input type=\"text\" name=\"s\" placeholder=\"A search ?\" value=\"\">\\n    <button type=\"submit\" class=\"search\">Search</button>\\n    <a class=\"search-voice tipso top\" data-tipso=\"You can use your phone&#039;s voice assistant\">Search with voice</a>\\n</form>\\n              <a href=\"/en/dictionary\" class=\"btn icon-chevron\">... or browse the dictionary</a>\\n            </div>\\n            <div>\\n              <a href=\"/en/photos\" class=\"travel-india\">\\n                <span class=\"bottom-module-link-text\">Discover India your way</span>\\n              </a>\\n            </div>\\n          </div>\\n        </section>\\n      \\n                </section>\\n        \\n    </main>\\n\\n      </div>\\n\\n    <div class=\"remodal popin_contact\" data-remodal-id=\"modal\">\\n      <button data-remodal-action=\"close\" class=\"remodal-close\"></button>\\n      <h2>Contact</h2>\\n      <form name=\"contact\" method=\"post\" action=\"/en/contact_save\">\\n<div id=\"contact\"><div class=\"form-group\"><label class=\"control-label required\" for=\"contact_name\">Your name</label><input type=\"text\" id=\"contact_name\" name=\"contact[name]\" required=\"required\" class=\"form-control\" /></div><div class=\"form-group\"><label class=\"control-label required\" for=\"contact_email\">Your email</label><input type=\"text\" id=\"contact_email\" name=\"contact[email]\" required=\"required\" class=\"form-control\" /></div><div class=\"form-group\"><label class=\"control-label required\" for=\"contact_content\">Your message</label><textarea id=\"contact_content\" name=\"contact[content]\" required=\"required\" class=\"form-control\"></textarea></div><input type=\"hidden\" id=\"contact_type\" name=\"contact[type]\" value=\"contact\" /><div class=\"form-group\"><button type=\"submit\" id=\"contact_save\" name=\"contact[save]\" class=\"btn-default btn\">Send</button></div><input type=\"hidden\" id=\"contact__token\" name=\"contact[_token]\" value=\"eiWZ1lmeaX4XEj6Y0zunhEyRFauI1-KUuXZspjuYpeA\" /></div>\\n</form>\\n    </div>\\n\\n    <div class=\"remodal popin_contact\" data-remodal-id=\"modal_image\">\\n      <button data-remodal-action=\"close\" class=\"remodal-close\"></button>\\n      <h2>Submit a picture</h2>\\n      <p>Submit a picture</p>\\n      <form name=\"contact_image\" method=\"post\" action=\"/en/contact_save/image\">\\n<div id=\"contact_image\"><div class=\"form-group\"><label class=\"control-label required\" for=\"contact_image_name\">Your name</label><input type=\"text\" id=\"contact_image_name\" name=\"contact_image[name]\" required=\"required\" class=\"form-control\" /></div><div class=\"form-group\"><label class=\"control-label required\" for=\"contact_image_email\">Your email</label><input type=\"text\" id=\"contact_image_email\" name=\"contact_image[email]\" required=\"required\" class=\"form-control\" /></div><div class=\"form-group\"><label class=\"control-label required\" for=\"contact_image_url\">URL of your image</label><input type=\"text\" id=\"contact_image_url\" name=\"contact_image[url]\" required=\"required\" class=\"form-control\" /></div><input type=\"hidden\" id=\"contact_image_content\" name=\"contact_image[content]\" value=\"image\" /><input type=\"hidden\" id=\"contact_image_type\" name=\"contact_image[type]\" value=\"image\" /><div class=\"form-group\"><button type=\"submit\" id=\"contact_image_save\" name=\"contact_image[save]\" class=\"btn-default btn\">Send</button></div><input type=\"hidden\" id=\"contact_image__token\" name=\"contact_image[_token]\" value=\"lkzUui-uM9wroWnXxK2sqfskNQYh-ltqpemFOAe8nFA\" /></div>\\n</form>\\n    </div>\\n\\n    <div class=\"remodal popin_contact\" data-remodal-id=\"modal_traduction\">\\n      <button data-remodal-action=\"close\" class=\"remodal-close\"></button>\\n      <h2>Submit a translation</h2>\\n      <p>Submit your translation</p>\\n      <form name=\"contact_traduction\" method=\"post\" action=\"/en/contact_save/traduction\">\\n<div id=\"contact_traduction\"><div class=\"form-group\"><label class=\"control-label required\" for=\"contact_traduction_name\">Your name</label><input type=\"text\" id=\"contact_traduction_name\" name=\"contact_traduction[name]\" required=\"required\" class=\"form-control\" /></div><div class=\"form-group\"><label class=\"control-label required\" for=\"contact_traduction_email\">Your email</label><input type=\"text\" id=\"contact_traduction_email\" name=\"contact_traduction[email]\" required=\"required\" class=\"form-control\" /></div><div class=\"form-group\"><label class=\"control-label required\" for=\"contact_traduction_content\">Your translation</label><textarea id=\"contact_traduction_content\" name=\"contact_traduction[content]\" required=\"required\" class=\"form-control\"></textarea></div><input type=\"hidden\" id=\"contact_traduction_type\" name=\"contact_traduction[type]\" value=\"traduction\" /><div class=\"form-group\"><button type=\"submit\" id=\"contact_traduction_save\" name=\"contact_traduction[save]\" class=\"btn-default btn\">Send</button></div><input type=\"hidden\" id=\"contact_traduction__token\" name=\"contact_traduction[_token]\" value=\"J1X_8fymWTaQayynQODkMTiQuDceg5SVq-Uflnp9TAw\" /></div>\\n</form>\\n    </div>\\n\\n    <div class=\"remodal popin_limit_listen\" data-remodal-id=\"modal_limit_listen\">\\n      <button data-remodal-action=\"close\" class=\"remodal-close\"></button>\\n      <h2>Listening limit reached</h2>\\n      <p>You reached the listening limit.<br />\\r\\nIn order to continue your learning,<br />\\r\\nyou can <a href=\"/en/register\">create a free account</a><br />\\r\\nor <a href=\"/en/login\">login</a>\\r\\n</p>\\n    </div>\\n\\n    <div class=\"remodal popin_knowledge_login\" data-remodal-id=\"modal_knowledge_login\">\\n      <button data-remodal-action=\"close\" class=\"remodal-close\"></button>\\n      <h2>Login to add to your knowledge</h2>\\n      <p>You should be logged to use this functionnality.<br />\\r\\nIn order to continue your learning,<br />\\r\\nyou can <a href=\"/en/register\">create a free account</a><br />\\r\\nor <a href=\"/en/login\">login</a>\\r\\n</p>\\n    </div>\\n\\n    <footer id=\"footer\" role=\"contentinfo\">\\n  <div class=\"footer-main\">\\n    <div class=\"content\">\\n      <div class=\"grid\">\\n        <div>\\n          <a href=\"/\" class=\"logo\">\\n            <img src=\"/img/logo-bolti.svg\" alt=\"Bolti Dictionary\">\\n            <h1>Bolti <br>Dictionary</h1>\\n          </a>\\n          <p> Bolti Dictionary,<br>\\n            Dictionary, interactive courses <br> and cultural platform</p>\\n          <h3>Join us</h3>\\n          <ul class=\"rs\">\\n            <li>\\n              <a href=\"https://www.instagram.com/boltidictionary/\" class=\"instagram\">\\n                <img src=\"/img/rs/ico-instagram.svg\" alt=\"Instagram\" width=\"39\" height=\"39\">\\n              </a>\\n            </li>\\n            <li>\\n              <a href=\"https://www.facebook.com/Boltidictionarycom-150621228465735/\" class=\"facebook\">\\n                <img src=\"/img/rs/ico-facebook.svg\" alt=\"\">\\n              </a>\\n            </li>\\n            <li>\\n              <a href=\"https://twitter.com/Boltidictionary\" class=\"twitter\">\\n                <img src=\"/img/rs/ico-twitter.svg\" alt=\"\">\\n              </a>\\n            </li>\\n          </ul>\\n        </div>\\n        <nav>\\n          <h3>Navigation</h3>\\n          <ul>\\n            <li><a href=\"/en/dictionary\" >Dictionary</a></li>\\n              <li><a href=\"/en/photos\" >Photos</a></li>\\n              <li><a href=\"/en/learning\" >Learning</a></li>\\n              <li><a href=\"#\" data-remodal-target=\"modal\">Contact</a></li>\\n              <li><a href=\"/en/about\" >About</a></li>\\n              <li><a href=\"/en/legal\" >Legal Notice</a></li>\\n              <li><a href=\"/en/terms\" >Terms and conditions of use</a></li>\\n              <li><a href=\"/en/charter\" >User Charter</a></li>\\n              <li><a href=\"/en/privacy\" >Privacy Policy</a></li>\\n          </ul>\\n        </nav>\\n        <div class=\"one-half\">\\n          <div class=\"instagram-grid\">\\n            <div class=\"instagram-line\">\\n              <div><a href=\"https://www.instagram.com/boltidictionary/\"><img src=\"/img/instagram-footer/illu-IG-footer-01.jpg\" alt=\"\"></a></div>\\n              <div><a href=\"https://www.instagram.com/boltidictionary/\"><img src=\"/img/instagram-footer/illu-IG-footer-02.jpg\" alt=\"\"></a></div>\\n              <div><a href=\"https://www.instagram.com/boltidictionary/\"><img src=\"/img/instagram-footer/illu-IG-footer-03.jpg\" alt=\"\"></a></div>\\n              <div><a href=\"https://www.instagram.com/boltidictionary/\"><img src=\"/img/instagram-footer/illu-IG-footer-04.jpg\" alt=\"\"></a></div>\\n              <div><a href=\"https://www.instagram.com/boltidictionary/\"><img src=\"/img/instagram-footer/illu-IG-footer-05.jpg\" alt=\"\"></a></div>\\n            </div>\\n\\n            <div class=\"instagram-line\">\\n              <div><a href=\"https://www.instagram.com/boltidictionary/\"><img src=\"/img/instagram-footer/illu-IG-footer-06.jpg\" alt=\"\"></a></div>\\n              <div><a href=\"https://www.instagram.com/boltidictionary/\"><img src=\"/img/instagram-footer/illu-IG-footer-07.jpg\" alt=\"\"></a></div>\\n              <div><a href=\"https://www.instagram.com/boltidictionary/\"><img src=\"/img/instagram-footer/illu-IG-footer-08.jpg\" alt=\"\"></a></div>\\n              <div class=\"two-fives\"><a href=\"https://www.instagram.com/boltidictionary/\"><span>Share your photos</span></a></div>\\n            </div>\\n\\n            <div class=\"instagram-line\">\\n              <div><a href=\"https://www.instagram.com/boltidictionary/\"><img src=\"/img/instagram-footer/illu-IG-footer-09.jpg\" alt=\"\"></a></div>\\n              <div><a href=\"https://www.instagram.com/boltidictionary/\"><img src=\"/img/instagram-footer/illu-IG-footer-10.jpg\" alt=\"\"></a></div>\\n              <div><a href=\"https://www.instagram.com/boltidictionary/\"><img src=\"/img/instagram-footer/illu-IG-footer-11.jpg\" alt=\"\"></a></div>\\n              <div><a href=\"https://www.instagram.com/boltidictionary/\"><img src=\"/img/instagram-footer/illu-IG-footer-12.jpg\" alt=\"\"></a></div>\\n              <div><a href=\"https://www.instagram.com/boltidictionary/\"><img src=\"/img/instagram-footer/illu-IG-footer-13.jpg\" alt=\"\"></a></div>\\n            </div>\\n          </div>\\n        </div>\\n      </div>\\n    </div>\\n  </div>\\n  <div class=\"bottom-bar\">\\n    &copy; 2010-2023 Boltidictionary - <a href=\"/en/legal\">Legal Notices</a>\\n  </div>\\n</footer>\\n    <footer id=\"appInstall\" class=\"pwaFooter\">\\n    <div>\\n        <button>Install as app</button>\\n    </div>\\n</footer>\\n<footer id=\"newVersion\" class=\"pwaFooter\">\\n    <div>\\n        New update available\\n        <button class=\"refresh\">Refresh</button>\\n        <a href=\"#\" class=\"close\">later</a>\\n    </div>\\n</footer>\\n\\n                      <script src=\"/build/all.js?20210526\"></script>\\n          <script>\\n    $(function() {\\n        $(\".popin_contact form\").submit(function(e){\\n            var action_url = $(this).attr(\\'action\\');\\n            e.preventDefault();\\n            $.ajax({\\n                type: \"POST\",\\n                url: action_url,\\n                data: $(this).serialize(),\\n                success: function(datas){\\n                    $(\".popin_contact form\").before(\\'<p>\\'+datas.msg+\\'</p>\\');\\n                    $(\".popin_contact form\").hide();\\n                },\\n                error: function(){\\n                    alert(\"failure\");\\n                }\\n            });\\n        });\\n    });\\n    </script>\\n    \\n  </body>\\n</html>'"
            ],
            "application/vnd.google.colaboratory.intrinsic+json": {
              "type": "string"
            }
          },
          "metadata": {},
          "execution_count": 10
        }
      ]
    },
    {
      "cell_type": "code",
      "source": [
        "re.findall(\"(masculine|feminine)\", res1)"
      ],
      "metadata": {
        "colab": {
          "base_uri": "https://localhost:8080/"
        },
        "id": "L6nA5DZMFt6k",
        "outputId": "93ae2bfd-99de-4119-dddf-00c15d48058a"
      },
      "execution_count": null,
      "outputs": [
        {
          "output_type": "execute_result",
          "data": {
            "text/plain": [
              "['masculine']"
            ]
          },
          "metadata": {},
          "execution_count": 11
        }
      ]
    },
    {
      "cell_type": "code",
      "source": [
        "re.search(\"devanagari\\\">(.+)</span>\", res1).group(1).split(\" - \")[0]"
      ],
      "metadata": {
        "colab": {
          "base_uri": "https://localhost:8080/",
          "height": 36
        },
        "id": "avt_hvvXMUGE",
        "outputId": "02f97ea8-aba8-4108-8774-78f6a0b15a52"
      },
      "execution_count": null,
      "outputs": [
        {
          "output_type": "execute_result",
          "data": {
            "text/plain": [
              "'परिवार'"
            ],
            "application/vnd.google.colaboratory.intrinsic+json": {
              "type": "string"
            }
          },
          "metadata": {},
          "execution_count": 12
        }
      ]
    },
    {
      "cell_type": "code",
      "source": [
        "def getHindi(word):\n",
        "  source = \"https://www.boltidictionary.com/en/\"\n",
        "  res = requests.get(source+'search?s='+word).content.decode('utf-8')\n",
        "  currWord= re.search(\"(word/[0-9]+)\", res)\n",
        "  if(currWord is None):\n",
        "    return (word, \"\", \"\")\n",
        "  res1 = requests.get(source+currWord.group(1)).content.decode('utf-8')\n",
        "  gender = re.search(\"definition-type\\\">(masculine|feminine) noun\", res1)\n",
        "  if(gender is not None): \n",
        "    gender = gender.group(1)\n",
        "  translation = re.search(\"devanagari\\\">(.+)</span>\", res1)\n",
        "  if(translation is not None):\n",
        "    translation = translation.group(1).split(\" - \")[0]\n",
        "  return (word, translation, gender)"
      ],
      "metadata": {
        "id": "3zziVrNew4wj"
      },
      "execution_count": null,
      "outputs": []
    },
    {
      "cell_type": "code",
      "source": [
        "getHindi(\"apple\")"
      ],
      "metadata": {
        "colab": {
          "base_uri": "https://localhost:8080/"
        },
        "id": "2myWV3z-xvTx",
        "outputId": "39c4e77a-b107-4817-f3f8-d56bfc21ef3a"
      },
      "execution_count": null,
      "outputs": [
        {
          "output_type": "stream",
          "name": "stdout",
          "text": [
            "apple\n",
            "\n"
          ]
        },
        {
          "output_type": "execute_result",
          "data": {
            "text/plain": [
              "('apple', 'सेब', 'masculine')"
            ]
          },
          "metadata": {},
          "execution_count": 27
        }
      ]
    },
    {
      "cell_type": "markdown",
      "source": [
        "##FRENCH"
      ],
      "metadata": {
        "id": "JM-DUbDvOvYD"
      }
    },
    {
      "cell_type": "code",
      "source": [
        "source = \"https://www.linguee.com/english-french/\""
      ],
      "metadata": {
        "id": "UE1T-2f2OxKk"
      },
      "execution_count": null,
      "outputs": []
    },
    {
      "cell_type": "code",
      "source": [
        "word = \"internet\""
      ],
      "metadata": {
        "id": "_5kvuGINYDZ_"
      },
      "execution_count": null,
      "outputs": []
    },
    {
      "cell_type": "code",
      "source": [
        "res = requests.get(source+'search?source=auto&query='+word).content.decode('iso-8859-1')\n",
        "res"
      ],
      "metadata": {
        "id": "4DQZwrFCU2vm",
        "colab": {
          "base_uri": "https://localhost:8080/",
          "height": 227
        },
        "outputId": "55e6e04e-c5c0-4bc6-9b3c-79d7f5888c13"
      },
      "execution_count": null,
      "outputs": [
        {
          "output_type": "execute_result",
          "data": {
            "text/plain": [
              "'<!DOCTYPE HTML PUBLIC \"-//W3C//DTD HTML 4.01 Transitional//EN\" \"http://www.w3.org/TR/html4/loose.dtd\">\\r\\n<html>\\r\\n<head>\\r\\n<meta http-equiv=\\'Content-Type\\' content=\\'text/html; charset=ISO-8859-15\\'>\\r\\n<meta name=\\'viewport\\' content=\\'width=device-width, initial-scale=1, user-scalable=0\\' />\\r\\n<title>You have sent too many requests causing Linguee to block your computer</title>\\r\\n<link rel=\\'stylesheet\\' type=\\'text/css\\' href=\\'https://d1wigddrwdtsce.cloudfront.net/5_1daaffd6/css3/style4-early-late.css.g\\'>\\r\\n<script type=\\'text/javascript\\' src=\\'https://d1wigddrwdtsce.cloudfront.net/5_1daaffd6/javascript/linguee4-early.js.g\\'></script>\\r\\n</head>\\r\\n<body id=\\'body\\' style=\\'height: 100%\\'>\\r\\n\\r\\n<div id=\\'outer_div\\' class=\\'il_DE\\'><div id=\\'mainlayout\\'><div id=\\'maindiv\\' class=\\'mainpadding\\'>\\r\\n\\r\\n<div id=\\'lingueecontent\\'>\\r\\n<div id=\\'linguee_start\\' style=\\'padding: 50px 30px 0 20px; max-width: 400px; margin: 0 auto;\\'>\\r\\n<img class=\\'logo\\' src=\\'https://d1wigddrwdtsce.cloudfront.net/img4/logo_big.png\\' alt=\\'Linguee - Dictionary for German, French, Spanish, and Portuguese\\' style=\\'margin: 0 auto;\\'>\\r\\n<div class=\\'textcontent\\' style=\\'text-align: center; margin-top: 30px; margin-bottom: 36px;\\'>\\r\\n<h1>You have sent too many requests causing Linguee to block your computer</h1>\\r\\nTo prevent automatic queries by computer programs, Linguee only allows a certain number of queries per computer.<br>\\nFor users with disabled Javascript, this number is much lower than for those with enabled Javascript. The following steps may be helpful to prevent your computer from being blocked again: enable Javascript in your browser settings, wait for a few hours, and then try using Linguee again.<br>\\nIf your computer is part of a large network that is protected by an NAT/Firewall with many users within your network using Linguee concurrently, <a href=\\'javascript:sendemail(\"Linguee blocked my IP: 34.90.117.6\");\\' >please contact us.</a><br>\\r\\n</div>\\r\\n</div>\\r\\n</div>\\r\\n\\t\\r\\n</div></div></div>\\r\\n</body>\\r\\n</html>\\r\\n'"
            ],
            "application/vnd.google.colaboratory.intrinsic+json": {
              "type": "string"
            }
          },
          "metadata": {},
          "execution_count": 90
        }
      ]
    },
    {
      "cell_type": "code",
      "source": [
        "re.search(\"title=\\'noun,&nbsp;(masculine|feminine|)\\\\'\", res).group(1)"
      ],
      "metadata": {
        "id": "ypxqoKZrVTXO"
      },
      "execution_count": null,
      "outputs": []
    },
    {
      "cell_type": "code",
      "source": [
        "re.search(\"dictLink featured\\'>(.+)</a> <span class=\\'tag_type\\' \", res).group(1)"
      ],
      "metadata": {
        "colab": {
          "base_uri": "https://localhost:8080/",
          "height": 36
        },
        "id": "udwbJ71RVTZ2",
        "outputId": "f238ce01-60e4-4850-a62d-1d9183dfac05"
      },
      "execution_count": null,
      "outputs": [
        {
          "output_type": "execute_result",
          "data": {
            "text/plain": [
              "'fenêtre'"
            ],
            "application/vnd.google.colaboratory.intrinsic+json": {
              "type": "string"
            }
          },
          "metadata": {},
          "execution_count": 14
        }
      ]
    },
    {
      "cell_type": "code",
      "source": [
        "def getFrench(word):\n",
        "  source = \"https://www.linguee.com/english-french/\"\n",
        "  res = requests.get(source+'search?source=auto&query='+word).content.decode('iso-8859-1')\n",
        "  gender = re.search(\"title=\\'noun,&nbsp;(masculine|feminine)\\\\'\", res)\n",
        "  translation = re.search(\"dictLink featured\\'>(.+)</a> <span class=\\'tag_type\\' \", res)\n",
        "  if(gender is not None): \n",
        "    gender = gender.group(1)\n",
        "  if(translation is not None):\n",
        "    translation = translation.group(1).split(\" - \")[0]\n",
        "  return (word, translation, gender)"
      ],
      "metadata": {
        "id": "bGYkj-ffx25b"
      },
      "execution_count": null,
      "outputs": []
    },
    {
      "cell_type": "code",
      "source": [
        "getFrench(\"apple\")"
      ],
      "metadata": {
        "colab": {
          "base_uri": "https://localhost:8080/"
        },
        "id": "GyEPPZx_yD_W",
        "outputId": "04134052-6627-425d-ac77-1e9ccf3b768c"
      },
      "execution_count": null,
      "outputs": [
        {
          "output_type": "execute_result",
          "data": {
            "text/plain": [
              "('apple', 'pomme', 'feminine')"
            ]
          },
          "metadata": {},
          "execution_count": 50
        }
      ]
    },
    {
      "cell_type": "markdown",
      "source": [
        "##WORDS\n",
        "https://www.talkenglish.com/vocabulary/top-1500-nouns.aspx"
      ],
      "metadata": {
        "id": "FsrFP1CXyuny"
      }
    },
    {
      "cell_type": "code",
      "source": [
        "source = \"https://www.talkenglish.com/vocabulary/top-1500-nouns.aspx\""
      ],
      "metadata": {
        "id": "yYToSLP_yzun"
      },
      "execution_count": null,
      "outputs": []
    },
    {
      "cell_type": "code",
      "source": [
        "res = requests.get(source).content.decode('utf-8')\n",
        "allwords = re.findall(\"<a href=\\\"/how-to-use/.*\\\" target=\\\"_blank\\\">(.*)</a>\", res)"
      ],
      "metadata": {
        "id": "1rAYnQdHzDbV"
      },
      "execution_count": null,
      "outputs": []
    },
    {
      "cell_type": "code",
      "source": [
        "# chardet.detect(res)['encoding']"
      ],
      "metadata": {
        "id": "T5Ie151nzESC"
      },
      "execution_count": null,
      "outputs": []
    },
    {
      "cell_type": "code",
      "source": [
        "f = open('wordlist.csv','w')\n",
        "f.write('\\n'.join(allwords))\n",
        "f.close()"
      ],
      "metadata": {
        "id": "3Tp34zhL3OF_"
      },
      "execution_count": null,
      "outputs": []
    },
    {
      "cell_type": "code",
      "source": [
        "fun1 = lambda x: (getFrench(i) for i in x)"
      ],
      "metadata": {
        "id": "QPX2fruNyPbM"
      },
      "execution_count": null,
      "outputs": []
    },
    {
      "cell_type": "code",
      "source": [
        "allwords[33:50]"
      ],
      "metadata": {
        "colab": {
          "base_uri": "https://localhost:8080/"
        },
        "id": "6jiC9Lzg3DFc",
        "outputId": "26ecc2b6-a6f4-406c-cca2-56889dc7a1e1"
      },
      "execution_count": null,
      "outputs": [
        {
          "output_type": "execute_result",
          "data": {
            "text/plain": [
              "['love',\n",
              " 'internet',\n",
              " 'television',\n",
              " 'science',\n",
              " 'library',\n",
              " 'nature',\n",
              " 'fact',\n",
              " 'product',\n",
              " 'idea',\n",
              " 'temperature',\n",
              " 'investment',\n",
              " 'area',\n",
              " 'society',\n",
              " 'activity',\n",
              " 'story',\n",
              " 'industry',\n",
              " 'media']"
            ]
          },
          "metadata": {},
          "execution_count": 9
        }
      ]
    },
    {
      "cell_type": "code",
      "source": [
        "l= list(fun1(allwords[33:50]))"
      ],
      "metadata": {
        "id": "BhfxXWfDyaf6"
      },
      "execution_count": null,
      "outputs": []
    },
    {
      "cell_type": "code",
      "source": [
        "f = open('frenchwordlist-3.csv','w')\n",
        "f.write(\"\\n\".join(\"%s,%s, %s\" % tup for tup in l))\n",
        "f.close()"
      ],
      "metadata": {
        "id": "LnU24j1J3SGw"
      },
      "execution_count": null,
      "outputs": []
    }
  ]
}